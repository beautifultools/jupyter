{
 "cells": [
  {
   "cell_type": "markdown",
   "id": "f16d79f9-7390-41bf-927a-4fc2cfa0d558",
   "metadata": {},
   "source": [
    "# Data Project -Stock Market Analysis"
   ]
  },
  {
   "cell_type": "markdown",
   "id": "8a5feea4-cb21-4504-bd45-b28cd89472ab",
   "metadata": {},
   "source": [
    "In this notebook we will be looking at data from the stock market, particularly some technoloy sotkcs. We will learn how to use pandas to get stock information, visualize different aspects of it, and finally we will look at a few ways of analyzing the risk of a stock, based on its previous performance history. We will also be predicting future stock prices through a Long Short Term Memory(LSTM) method!\n",
    "\n",
    "We'll be answering the following questions along the way:\n",
    "```\n",
    "1.) What was the change in price of the stock over time? (Basic)\n",
    "2.) What was the daily return of the stock on average? (Basic Summary)\n",
    "3.) What was the moving average of the various stocks? ()\n",
    "4.) What was the correlation between different stocks'? ()\n",
    "5.) How much value do we put at risk by investing in a particular stock?\n",
    "6.) How can we attempt to predict future sotck behavior? (Predicting the closing price sotck price of APPLE inc using LSTM)\n",
    "\n",
    "```"
   ]
  },
  {
   "cell_type": "markdown",
   "id": "aa7dcc86-823b-48a5-ac60-3cab607ee8e7",
   "metadata": {},
   "source": [
    "# 1. What was the change in price of the stock overtime?\n",
    "In this section we'll go over how to handle requesting stock information with pandas, and how to analyze basic attributes of a stock"
   ]
  },
  {
   "cell_type": "code",
   "execution_count": 2,
   "id": "e39ed8e3-5652-4ead-9073-11fe0cb680d7",
   "metadata": {},
   "outputs": [
    {
     "ename": "ModuleNotFoundError",
     "evalue": "No module named 'seaborn'",
     "output_type": "error",
     "traceback": [
      "\u001b[0;31m---------------------------------------------------------------------------\u001b[0m",
      "\u001b[0;31mModuleNotFoundError\u001b[0m                       Traceback (most recent call last)",
      "\u001b[0;32m/var/folders/sq/q4m01tvj0416x62xjts0p8jh0000gn/T/ipykernel_12629/25478097.py\u001b[0m in \u001b[0;36m<module>\u001b[0;34m\u001b[0m\n\u001b[1;32m      3\u001b[0m \u001b[0;34m\u001b[0m\u001b[0m\n\u001b[1;32m      4\u001b[0m \u001b[0;32mimport\u001b[0m \u001b[0mmatplotlib\u001b[0m\u001b[0;34m.\u001b[0m\u001b[0mpyplot\u001b[0m \u001b[0;32mas\u001b[0m \u001b[0mplt\u001b[0m\u001b[0;34m\u001b[0m\u001b[0;34m\u001b[0m\u001b[0m\n\u001b[0;32m----> 5\u001b[0;31m \u001b[0;32mimport\u001b[0m \u001b[0mseaborn\u001b[0m \u001b[0;32mas\u001b[0m \u001b[0msns\u001b[0m\u001b[0;34m\u001b[0m\u001b[0;34m\u001b[0m\u001b[0m\n\u001b[0m\u001b[1;32m      6\u001b[0m \u001b[0msns\u001b[0m\u001b[0;34m.\u001b[0m\u001b[0mset_style\u001b[0m\u001b[0;34m(\u001b[0m\u001b[0;34m'whitegrid'\u001b[0m\u001b[0;34m)\u001b[0m\u001b[0;34m\u001b[0m\u001b[0;34m\u001b[0m\u001b[0m\n\u001b[1;32m      7\u001b[0m \u001b[0mplt\u001b[0m\u001b[0;34m.\u001b[0m\u001b[0mstyle_use\u001b[0m\u001b[0;34m(\u001b[0m\u001b[0;34m'fivethirtyeight'\u001b[0m\u001b[0;34m)\u001b[0m\u001b[0;34m\u001b[0m\u001b[0;34m\u001b[0m\u001b[0m\n",
      "\u001b[0;31mModuleNotFoundError\u001b[0m: No module named 'seaborn'"
     ]
    }
   ],
   "source": [
    "import pandas as pd\n",
    "import numpy as np\n",
    "\n",
    "import matplotlib.pyplot as plt\n",
    "import seaborn as sns\n",
    "sns.set_style('whitegrid')\n",
    "plt.style_use('fivethirtyeight')\n",
    "%matplotlib inline\n",
    "\n",
    "from pandas_datareader.data import DataReader\n",
    "\n",
    "from datetime import datetime"
   ]
  },
  {
   "cell_type": "code",
   "execution_count": null,
   "id": "867f656e-68c0-403b-a390-529f7a3528ca",
   "metadata": {},
   "outputs": [],
   "source": []
  }
 ],
 "metadata": {
  "kernelspec": {
   "display_name": "Python 3 (ipykernel)",
   "language": "python",
   "name": "python3"
  },
  "language_info": {
   "codemirror_mode": {
    "name": "ipython",
    "version": 3
   },
   "file_extension": ".py",
   "mimetype": "text/x-python",
   "name": "python",
   "nbconvert_exporter": "python",
   "pygments_lexer": "ipython3",
   "version": "3.8.1"
  }
 },
 "nbformat": 4,
 "nbformat_minor": 5
}
